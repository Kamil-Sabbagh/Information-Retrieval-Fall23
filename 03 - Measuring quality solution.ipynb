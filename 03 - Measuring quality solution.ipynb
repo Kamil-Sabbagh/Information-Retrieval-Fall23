{
 "cells": [
  {
   "cell_type": "markdown",
   "id": "1b1f94b9-7b73-4748-9286-d786a69bdf71",
   "metadata": {},
   "source": [
    "# 1. Assessor and analyst work\n",
    "\n",
    "## 1.0. Rating and criteria\n",
    "\n",
    "Please [open this document](https://static.googleusercontent.com/media/guidelines.raterhub.com/en//searchqualityevaluatorguidelines.pdf)\n",
    "and study chapters 13.0-13.4. Your task will be to assess the organic answers of search engines given the same query.\n",
    "\n",
    "## 1.1. Explore the page\n",
    "\n",
    "For the following search engines:\n",
    "- https://duckduckgo.com/\n",
    "- https://www.bing.com/\n",
    "- https://ya.ru/\n",
    "- https://www.google.com/\n",
    "\n",
    "Perform the same query: \"**How to get from Kazan to Voronezh**\".\n",
    "\n",
    "Discuss with your TA the following:\n",
    "1. Which elements you may identify at SERP? Ads, snippets, blends from other sources, ...?\n",
    "2. Where are organic results? How many of them are there?\n",
    "\n",
    "## 1.2. Rate the results of the search engine\n",
    "\n",
    "If there are many of you in the group, assess all search engines, otherwise choose 1 or 2. There should be no less than 5 of your for each search engine. Use the scale from the handbook, use 0..4 numerical equivalents for . \n",
    "\n",
    "Compute:\n",
    "- average relevance and standard deviation.\n",
    "- [Fleiss kappa score](https://en.wikipedia.org/wiki/Fleiss%27_kappa#Worked_example). Use [this implementation](https://www.statsmodels.org/dev/generated/statsmodels.stats.inter_rater.fleiss_kappa.html).\n",
    "- [Kendall rank coefficient](https://en.wikipedia.org/wiki/Kendall_rank_correlation_coefficient). Use [this implementation](https://docs.scipy.org/doc/scipy/reference/generated/scipy.stats.kendalltau.html).\n",
    "\n",
    "Discuss numerical results. Did you agree on the relevance? Did you agree on the rank? What is the difference?"
   ]
  },
  {
   "cell_type": "code",
   "execution_count": 29,
   "id": "3c3738c6-ed54-4113-b75a-cba812c5aade",
   "metadata": {},
   "outputs": [],
   "source": [
    "import numpy as np\n",
    "# example input by users\n",
    "ranking_data = np.array([\n",
    "    [4, 4, 4, 3, 4, 2, 2, 1, 1, 0], # assessor 1 relevance\n",
    "    [4, 3, 4, 3, 3, 2, 1, 1, 1, 1], # assessor 2 relevance\n",
    "    [3, 4, 4, 4, 4, 3, 2, 1, 1, 1], # ...\n",
    "    [4, 4, 4, 4, 3, 2, 2, 1, 1, 0],\n",
    "    [4, 4, 4, 4, 3, 2, 2, 1, 1, 3]\n",
    "])"
   ]
  },
  {
   "cell_type": "markdown",
   "id": "32a88b0e-5ece-404c-9fc2-82c4d1bb3281",
   "metadata": {},
   "source": [
    "Averages ang standard deviations per item."
   ]
  },
  {
   "cell_type": "code",
   "execution_count": 38,
   "id": "59c53e3e-120f-45ec-94c1-f02d061f0177",
   "metadata": {},
   "outputs": [
    {
     "name": "stdout",
     "output_type": "stream",
     "text": [
      " 0 relevance 3.80 ± 0.400\n",
      " 1 relevance 3.80 ± 0.400\n",
      " 2 relevance 4.00 ± 0.000\n",
      " 3 relevance 3.60 ± 0.490\n",
      " 4 relevance 3.40 ± 0.490\n",
      " 5 relevance 2.20 ± 0.400\n",
      " 6 relevance 1.80 ± 0.400\n",
      " 7 relevance 1.00 ± 0.000\n",
      " 8 relevance 1.00 ± 0.000\n",
      " 9 relevance 1.00 ± 1.095\n"
     ]
    }
   ],
   "source": [
    "average_relevance = ranking_data.mean(axis=0)\n",
    "sigma2 = ((ranking_data - average_relevance) ** 2).mean(axis=0)\n",
    "sigma = sigma2 ** .5\n",
    "\n",
    "for i in range(ranking_data.shape[1]):\n",
    "    print(f\" {i} relevance {average_relevance[i]:.2f} ± {sigma[i]:.3f}\")"
   ]
  },
  {
   "cell_type": "markdown",
   "id": "70a88642-87aa-42c1-b913-83eb9b22d973",
   "metadata": {},
   "source": [
    "Fleiss kappa score"
   ]
  },
  {
   "cell_type": "code",
   "execution_count": null,
   "id": "06e63c2c-090d-4da1-b0b8-45ec2538e635",
   "metadata": {},
   "outputs": [],
   "source": [
    "!pip install statsmodels"
   ]
  },
  {
   "cell_type": "code",
   "execution_count": 42,
   "id": "6cb6cbb6-7768-42f0-aed3-215488d15bc2",
   "metadata": {},
   "outputs": [
    {
     "name": "stdout",
     "output_type": "stream",
     "text": [
      "Agreement matrix:\n",
      "[[0 0 0 1 4]\n",
      " [0 0 0 1 4]\n",
      " [0 0 0 0 5]\n",
      " [0 0 0 2 3]\n",
      " [0 0 0 3 2]\n",
      " [0 0 4 1 0]\n",
      " [0 1 4 0 0]\n",
      " [0 5 0 0 0]\n",
      " [0 5 0 0 0]\n",
      " [2 2 0 1 0]]\n",
      "Categories: [0 1 2 3 4]\n",
      "Kappa: 0.5156081808396124\n"
     ]
    }
   ],
   "source": [
    "from statsmodels.stats.inter_rater import aggregate_raters, fleiss_kappa\n",
    "transposed = ranking_data.T\n",
    "\n",
    "aggregate, cats = aggregate_raters(transposed)\n",
    "print(\"Agreement matrix:\")\n",
    "print(aggregate)\n",
    "print(\"Categories:\", cats)\n",
    "print(\"Kappa:\", fleiss_kappa(aggregate))"
   ]
  },
  {
   "cell_type": "markdown",
   "id": "3bd6069e-e8a1-4483-b1f2-bf5f4e982283",
   "metadata": {},
   "source": [
    "Kendall tau score is pairwise. Compare one to another."
   ]
  },
  {
   "cell_type": "code",
   "execution_count": 53,
   "id": "6e7f5f22-74a4-47cd-848a-09c8e1abb39c",
   "metadata": {},
   "outputs": [
    {
     "data": {
      "text/plain": [
       "KendalltauResult(correlation=0.8336550215650926, pvalue=0.003100607493269036)"
      ]
     },
     "execution_count": 53,
     "metadata": {},
     "output_type": "execute_result"
    }
   ],
   "source": [
    "from scipy.stats import kendalltau\n",
    "kendalltau(ranking_data[0], ranking_data[1])"
   ]
  },
  {
   "cell_type": "markdown",
   "id": "9eed044a-9a49-432d-b7a6-7591087d0de7",
   "metadata": {},
   "source": [
    "# 2. Engineer work\n",
    "\n",
    "You will create a bucket of URLs which are relevant for the query **\"free cloud git\"**. Then you will automate the search procedure using https://serpapi.com/, or https://developers.google.com/custom-search/v1/overview, or whatever.\n",
    "\n",
    "Then you will compute MRR@10 and Precision@10.\n",
    "\n",
    "## 2.1. Build your bucket here"
   ]
  },
  {
   "cell_type": "code",
   "execution_count": 54,
   "id": "e11aa566-0ab3-48d7-959c-ab6cb875d7ac",
   "metadata": {},
   "outputs": [],
   "source": [
    "rel_bucket = [\n",
    "    \"gitpod.io\",\n",
    "    \"github.com\",\n",
    "    \"bitbucket.org\",\n",
    "    \"source.cloud.google.com\",\n",
    "    \"gitlab.com\",\n",
    "    \"sourceforge.net\",\n",
    "    \"aws.amazon.com/codecommit/\",\n",
    "    \"launchpad.net\",\n",
    "]\n",
    "\n",
    "query = \"free git cloud\""
   ]
  },
  {
   "cell_type": "markdown",
   "id": "d501aa5e-7051-4039-930b-b293c49721e1",
   "metadata": {},
   "source": [
    "## 2.2. Relevance assessment\n",
    "\n",
    "Write the code to check that the obtained document is relevant (True) or not (False)."
   ]
  },
  {
   "cell_type": "code",
   "execution_count": 55,
   "id": "450a610f-c121-4781-8719-1dcfd4892625",
   "metadata": {},
   "outputs": [],
   "source": [
    "def is_rel(resp_url):\n",
    "    for u in rel_bucket:\n",
    "        if u in resp_url:\n",
    "            return True\n",
    "    else:\n",
    "        return False"
   ]
  },
  {
   "cell_type": "markdown",
   "id": "5c3c2ea8-19c1-44b5-8fc2-fa4e23182dae",
   "metadata": {},
   "source": [
    "## 2.3. Automation\n",
    "\n",
    "Get search results from the automation tool you use."
   ]
  },
  {
   "cell_type": "code",
   "execution_count": 58,
   "id": "ffe12796-1c95-45d8-9d0d-de9bb65aeea9",
   "metadata": {},
   "outputs": [],
   "source": [
    "api_key = \"5aff1ae53da3a991a97d770bf1991833ba30a97d68925ede4cb0003285c727ba\""
   ]
  },
  {
   "cell_type": "code",
   "execution_count": 59,
   "id": "a849862d-ad6d-48c9-bf86-2606b9923c46",
   "metadata": {},
   "outputs": [],
   "source": [
    "import requests \n",
    "\n",
    "url = f\"https://serpapi.com/search.json?q={query}&hl=en&gl=us&google_domain=google.com&api_key={api_key}\"\n",
    "js = requests.get(url).json()"
   ]
  },
  {
   "cell_type": "code",
   "execution_count": 65,
   "id": "434e58a5-77a8-4d54-a495-8540361f6df7",
   "metadata": {},
   "outputs": [
    {
     "name": "stdout",
     "output_type": "stream",
     "text": [
      "1 6 places to host your git repository - Opensource.com\n",
      "https://opensource.com/article/18/8/github-alternatives\n",
      "False\n",
      "\n",
      "2 Bitbucket | Git solution for teams using Jira\n",
      "https://bitbucket.org/product\n",
      "True\n",
      "\n",
      "3 Top GitHub Alternatives to Host Your Open Source Projects\n",
      "https://itsfoss.com/github-alternatives/\n",
      "False\n",
      "\n",
      "4 Gitpod: Always ready to code.\n",
      "https://www.gitpod.io/\n",
      "True\n",
      "\n",
      "5 GitLab: The One DevOps Platform\n",
      "https://about.gitlab.com/\n",
      "True\n",
      "\n",
      "6 14 Git Hosting Services Compared | Tower Blog\n",
      "https://www.git-tower.com/blog/git-hosting-services-compared/\n",
      "False\n",
      "\n",
      "7 Top 10 best Git hosting solutions and services in 2021\n",
      "https://www.devopsschool.com/blog/top-5-git-hosting-solutions/\n",
      "False\n",
      "\n",
      "8 GitHub: Let's build from here · GitHub\n",
      "https://github.com/\n",
      "True\n",
      "\n",
      "9 Git\n",
      "https://git-scm.com/\n",
      "False\n",
      "\n",
      "10 Sourcetree | Free Git GUI for Mac and Windows\n",
      "https://www.sourcetreeapp.com/\n",
      "False\n",
      "\n"
     ]
    }
   ],
   "source": [
    "rels = []\n",
    "for result in js[\"organic_results\"]:\n",
    "    print(result['position'], result['title'])\n",
    "    print(result['link'])\n",
    "    print(is_rel(result['link']))\n",
    "    rels.append(int(is_rel(result['link'])))\n",
    "    print()"
   ]
  },
  {
   "cell_type": "code",
   "execution_count": 75,
   "id": "70849db7-918b-4b17-b045-3a5a06927936",
   "metadata": {},
   "outputs": [
    {
     "data": {
      "text/plain": [
       "[0, 1, 0, 1, 1, 0, 0, 1, 0, 0]"
      ]
     },
     "execution_count": 75,
     "metadata": {},
     "output_type": "execute_result"
    }
   ],
   "source": [
    "rels"
   ]
  },
  {
   "cell_type": "markdown",
   "id": "285eb724-2188-45d3-be78-cffb91bacee8",
   "metadata": {},
   "source": [
    "## 2.4. MRR\n",
    "\n",
    "Compute MRR:"
   ]
  },
  {
   "cell_type": "code",
   "execution_count": 71,
   "id": "33c40e3b-24d2-4c7b-860e-d543c1281f01",
   "metadata": {},
   "outputs": [],
   "source": [
    "def mrr(list_of_lists, k=10):\n",
    "    r = 0\n",
    "    for l in list_of_lists:\n",
    "        r += (1 / (k + 1)) if 1 not in l else 1 / (l.index(1) + 1)\n",
    "    return r / len(list_of_lists)"
   ]
  },
  {
   "cell_type": "code",
   "execution_count": 72,
   "id": "e64c4e28-9ae7-4715-96a2-adfa13c5b00b",
   "metadata": {},
   "outputs": [
    {
     "data": {
      "text/plain": [
       "0.5"
      ]
     },
     "execution_count": 72,
     "metadata": {},
     "output_type": "execute_result"
    }
   ],
   "source": [
    "mrr([rels])"
   ]
  },
  {
   "cell_type": "markdown",
   "id": "d644d32d-3d15-4d81-b3b5-396af0e85dd1",
   "metadata": {},
   "source": [
    "## 2.5. Precision\n",
    "Compute mean precision:"
   ]
  },
  {
   "cell_type": "code",
   "execution_count": 73,
   "id": "5be58a4a-deeb-48cd-9f81-cae0be9a8493",
   "metadata": {},
   "outputs": [],
   "source": [
    "def mp(list_of_lists, k=10):\n",
    "    p = 0\n",
    "    for l in list_of_lists:\n",
    "        p += sum(l) / k\n",
    "    return p / len(list_of_lists)"
   ]
  },
  {
   "cell_type": "code",
   "execution_count": 74,
   "id": "1d3fbb74-9b3d-46a2-98d9-4a8894c8e8b7",
   "metadata": {},
   "outputs": [
    {
     "data": {
      "text/plain": [
       "0.4"
      ]
     },
     "execution_count": 74,
     "metadata": {},
     "output_type": "execute_result"
    }
   ],
   "source": [
    "mp([rels])"
   ]
  }
 ],
 "metadata": {
  "kernelspec": {
   "display_name": "ai",
   "language": "python",
   "name": "ai"
  },
  "language_info": {
   "codemirror_mode": {
    "name": "ipython",
    "version": 3
   },
   "file_extension": ".py",
   "mimetype": "text/x-python",
   "name": "python",
   "nbconvert_exporter": "python",
   "pygments_lexer": "ipython3",
   "version": "3.9.7"
  }
 },
 "nbformat": 4,
 "nbformat_minor": 5
}
