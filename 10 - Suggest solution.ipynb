{
 "cells": [
  {
   "cell_type": "markdown",
   "metadata": {},
   "source": [
    "### 1.0.1. Check it works and understand the example"
   ]
  },
  {
   "cell_type": "markdown",
   "metadata": {},
   "source": [
    "# 1. Data\n",
    "\n",
    "We prepared a dataset with 500 research paper titles. Some of them have common prefixes, which make them a good sandbox for suggest testing. Below you will find base64-encoded dataset, and a code to decode and uncompress it."
   ]
  },
  {
   "cell_type": "code",
   "execution_count": 1,
   "metadata": {},
   "outputs": [
    {
     "name": "stdout",
     "output_type": "stream",
     "text": [
      "500\n",
      "Sample: ['A Bayesian Approach to Estimation of Speaker Normalization Parameters', 'A Bayesian Approach to Learning Bayesian Networks with Local Structure', 'A Bayesian Approach to Policy Recognition and State Representation  Learning', 'A Bayesian Approach to Tackling Hard Computational Problems', 'A Bayesian Approach toward Active Learning for Collaborative Filtering', 'A Bayesian Boosting Model', 'A Bayesian Clearing Mechanism for Combinatorial Auctions', 'A Bayesian Data Augmentation Approach for Learning Deep Models', 'A Bayesian Ensemble for Unsupervised Anomaly Detection', 'A Bayesian Framework for Sparse Representation-Based 3D Human Pose  Estimation']\n"
     ]
    }
   ],
   "source": [
    "compressed = \"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\"\n",
    "import zlib, base64\n",
    "unbase = base64.b64decode(compressed)\n",
    "raw = str(zlib.decompress(unbase), encoding='ascii')\n",
    "dataset = raw.split('\\n')\n",
    "\n",
    "print(len(dataset))\n",
    "print(\"Sample:\", dataset[50:60])"
   ]
  },
  {
   "cell_type": "markdown",
   "metadata": {
    "tags": []
   },
   "source": [
    "# 2. Trie\n",
    "\n",
    "Implement Trie-based index search. Store all texts in lower case.\n",
    "\n",
    "\n",
    "![image](https://www.ritambhara.in/wp-content/uploads/2017/05/Screen-Shot-2017-05-01-at-4.01.38-PM.png)"
   ]
  },
  {
   "cell_type": "markdown",
   "metadata": {},
   "source": [
    "## 2.1. Try the trie"
   ]
  },
  {
   "cell_type": "code",
   "execution_count": 3,
   "metadata": {},
   "outputs": [
    {
     "name": "stdout",
     "output_type": "stream",
     "text": [
      "Defaulting to user installation because normal site-packages is not writeable\n",
      "Collecting pygtrie\n",
      "  Using cached pygtrie-2.5.0-py3-none-any.whl (25 kB)\n",
      "Installing collected packages: pygtrie\n",
      "Successfully installed pygtrie-2.5.0\n"
     ]
    }
   ],
   "source": [
    "!pip install --upgrade pygtrie"
   ]
  },
  {
   "cell_type": "markdown",
   "metadata": {},
   "source": [
    "For strings:\n",
    "- `this is 1`\n",
    "- `This is 2`\n",
    "- `that is 3`\n",
    "- `that was 4`\n",
    "Draw the trie on the whiteboard.\n",
    "\n",
    "**Q1**: How would you implement prefix search with this data structure? Range search?\n",
    "\n",
    "**Q2**: Discuss, how trie behaves when storing URLs."
   ]
  },
  {
   "cell_type": "code",
   "execution_count": 11,
   "metadata": {},
   "outputs": [
    {
     "name": "stdout",
     "output_type": "stream",
     "text": [
      "CharTrie(this is 1: A, this is 2: B, that is 3: C)\n",
      "\n",
      "Node    = False\n",
      "Subtree = True\n",
      "\n",
      "this is 1 ~ A\n",
      "this is 2 ~ B\n"
     ]
    }
   ],
   "source": [
    "import pygtrie\n",
    "t = pygtrie.CharTrie()\n",
    "\n",
    "# trie can be considered as a form of organizing a set or a map\n",
    "t[\"this is 1\"] = \"A\"\n",
    "t[\"this is 2\"] = \"B\"\n",
    "t[\"that is 3\"] = \"C\"\n",
    "\n",
    "print(t)\n",
    "\n",
    "# Is \"this\" string present in a set?\n",
    "n = t.has_node('this') == pygtrie.Trie.HAS_VALUE\n",
    "\n",
    "# Is \"this\" prefix present in a set?\n",
    "s = t.has_node('this') == pygtrie.Trie.HAS_SUBTRIE\n",
    "\n",
    "print()\n",
    "print(f\"Node    = {n}\")\n",
    "print(f\"Subtree = {s}\")\n",
    "print()\n",
    "\n",
    "# iterate a subtree\n",
    "for key, val in t.iteritems(\"this\"):\n",
    "    print(key, '~', val)"
   ]
  },
  {
   "cell_type": "markdown",
   "metadata": {},
   "source": [
    "## 2.2. Trie for our data\n",
    "\n",
    "Put dataset lines into the trie data structure. Lowercased. Use database indices as values. Test your implementation."
   ]
  },
  {
   "cell_type": "code",
   "execution_count": 15,
   "metadata": {},
   "outputs": [
    {
     "name": "stdout",
     "output_type": "stream",
     "text": [
      "3D planar patch extraction from stereo using probabilistic region  growing\n",
      "3D seismic data denoising using two-dimensional sparse coding scheme\n"
     ]
    }
   ],
   "source": [
    "print(dataset[0])\n",
    "print(dataset[1])"
   ]
  },
  {
   "cell_type": "code",
   "execution_count": 5,
   "metadata": {},
   "outputs": [],
   "source": [
    "t = None\n",
    "# TODO\n",
    "\n",
    "t = pygtrie.CharTrie()\n",
    "for idx, title in enumerate(dataset):\n",
    "    t[title.lower()] = idx"
   ]
  },
  {
   "cell_type": "code",
   "execution_count": 6,
   "metadata": {},
   "outputs": [
    {
     "name": "stdout",
     "output_type": "stream",
     "text": [
      "Correction of:\n",
      "\t Correction of \"Cloud Removal By Fusing Multi-Sourc...\n",
      "\t Correction of Errors in a Modality Corpus Used for...\n",
      "\t Correction of Noisy Sentences using a Monolingual ...\n",
      "A Bayesian Model for:\n",
      "\t A Bayesian Model for Activities Recommendation and...\n",
      "\t A Bayesian Model for Discovering Typological Impli...\n",
      "\t A Bayesian Model for Generative Transition-based D...\n",
      "\t A Bayesian Model for Plan Recognition in RTS Games...\n",
      "\t A Bayesian Model for Supervised Clustering with th...\n",
      "\t A Bayesian model for recognizing handwritten mathe...\n",
      "Voice Conversion:\n",
      "\t Voice Conversion Using Sequence-to-Sequence Learni...\n",
      "\t Voice Conversion from Non-parallel Corpora Using V...\n",
      "\t Voice Conversion from Unaligned Corpora using Vari...\n",
      "Influence Function:\n",
      "\t Influence Function and Robust Variant of Kernel Ca...\n",
      "\t Influence Functions for Machine Learning: Nonparam...\n"
     ]
    }
   ],
   "source": [
    "## Tests\n",
    "\n",
    "initials = [\"Correction of\", \"A Bayesian Model for\", \"Voice Conversion\", \"Influence Function\"]\n",
    "\n",
    "for i in initials:\n",
    "    res = []\n",
    "    print(f\"{i}:\")\n",
    "    for key, idx in t.iteritems(i.lower()):\n",
    "        res.append(idx)\n",
    "    for idx in res:\n",
    "        print(\"\\t\", dataset[idx][:50] + \"...\")"
   ]
  },
  {
   "cell_type": "markdown",
   "metadata": {},
   "source": [
    "### Avoid stopwords\n",
    "\n",
    "We want suggest function to be **non-sensitive to stop words** because we don't want to upset the user if he confuses/omits prepositions, for example. Consider *\"public events in Innopolis\"* vs *\"public events at Innopolis\"* or *\"public events Innopolis\"* - they all mean the same."
   ]
  },
  {
   "cell_type": "code",
   "execution_count": 18,
   "metadata": {},
   "outputs": [],
   "source": [
    "from nltk.tokenize import word_tokenize \n",
    "from nltk.corpus import stopwords\n",
    "\n",
    "t2 = pygtrie.CharTrie()\n",
    "#TODO: build a trie insensitive to stop words\n",
    "\n",
    "\n",
    "stop_words = set(stopwords.words('english'))\n",
    "# print(stopwords.words('english'))\n",
    "\n",
    "def clean_sentence(query, stopwords):\n",
    "    tokens = [w for w in word_tokenize(query) if not w in stop_words]\n",
    "    return ' '.join(tokens)\n",
    "\n",
    "\n",
    "for idx, title in enumerate(dataset):\n",
    "    t2[clean_sentence(title.lower(), stop_words)] = idx"
   ]
  },
  {
   "cell_type": "markdown",
   "metadata": {},
   "source": [
    "## Write a suggest function which is non-sensitive to stop words\n",
    "\n",
    "Suggest options for user query based on Trie you just built.\n",
    "\n",
    "**Q**: What is the empirical threshold for minimal prefix for suggest?"
   ]
  },
  {
   "cell_type": "code",
   "execution_count": 22,
   "metadata": {},
   "outputs": [
    {
     "name": "stdout",
     "output_type": "stream",
     "text": [
      "Query: Bayesian approach to\n",
      "Results:\n",
      "something new bayesian approach\n",
      "\t47\tA Bayesian Approach for Online Classifier Ensemble\n",
      "\t94\tA Bayesian approach to type-specific conic fitting\n",
      "\t48\tA Bayesian Approach to Constraint Based Causal Inference\n",
      "\t53\tA Bayesian Approach to Tackling Hard Computational Problems\n",
      "\t50\tA Bayesian Approach to Estimation of Speaker Normalization Parameters\n"
     ]
    }
   ],
   "source": [
    "def complete_user_query(query, trie, top_k=5):\n",
    "    #TODO: suggest top_k options for a user query\n",
    "    # sort results by some characteristic. E.g., title length\n",
    "    \n",
    "    qfixed = clean_sentence(query, stop_words)\n",
    "    res = []\n",
    "    for key, idx in trie.iteritems(qfixed.lower()):\n",
    "        res.append(idx)\n",
    "    sorted_result = sorted(res, key=lambda idx: len(dataset[idx]))\n",
    "    return sorted_result[:top_k]\n",
    "    \n",
    "    pass\n",
    "\n",
    "        \n",
    "inp = \"Bayesian approach to\"\n",
    "print(\"Query:\", inp)\n",
    "print(\"Results:\")\n",
    "for idx in complete_user_query(inp, t2):\n",
    "    print(f\"\\t{idx}\\t{dataset[idx]}\")"
   ]
  },
  {
   "cell_type": "markdown",
   "metadata": {},
   "source": [
    "## In the middle\n",
    "\n",
    "What is the phrase you type is in the middle of the text? Can you propose the method, which will enrich suggest results with such texts?"
   ]
  },
  {
   "cell_type": "code",
   "execution_count": 24,
   "metadata": {},
   "outputs": [
    {
     "name": "stdout",
     "output_type": "stream",
     "text": [
      "['bayesian approach type-specific conic fitting', 'approach type-specific conic fitting', 'type-specific conic fitting', 'conic fitting', 'fitting']\n"
     ]
    }
   ],
   "source": [
    "## TODO\n",
    "t3 = None\n",
    "\n",
    "def postfixes(sentence):\n",
    "    words = clean_sentence(sentence.lower(), stop_words).split()\n",
    "    result = []\n",
    "    for i in range(len(words) ):\n",
    "        result.append(' '.join(words[i:]))\n",
    "    return result\n",
    "\n",
    "print(postfixes(\"A Bayesian approach to type-specific conic fitting\"))\n",
    "\n",
    "t3 = pygtrie.CharTrie()\n",
    "for idx, title in enumerate(dataset):\n",
    "    for post in postfixes(title):\n",
    "        if post not in t3:\n",
    "            t3[post] = []\n",
    "        t3[post] += [idx]"
   ]
  },
  {
   "cell_type": "code",
   "execution_count": 26,
   "metadata": {},
   "outputs": [
    {
     "name": "stdout",
     "output_type": "stream",
     "text": [
      "3D Point Cloud\n",
      "\t 3DCNN-DQN-RNN: A Deep Reinforcement Learning Framework for Semantic  Parsing of Large-scale 3D Point Clouds\n",
      "\t Vote3Deep: Fast Object Detection in 3D Point Clouds Using Efficient  Convolutional Neural Networks\n",
      "\n",
      "Residual Network\n",
      "\t VoxResNet: Deep Voxelwise Residual Networks for Volumetric Brain  Segmentation\n",
      "\t Wavelet Domain Residual Network (WavResNet) for Low-Dose X-ray CT  Reconstruction\n",
      "\n",
      "Supervised\n",
      "\t A Bayesian Model for Supervised Clustering with the Dirichlet Process  Prior\n",
      "\t WESPE: Weakly Supervised Photo Enhancer for Digital Cameras\n",
      "\t Progressive Representation Adaptation for Weakly Supervised Object  Localization\n",
      "\n",
      "word length\n",
      "\t Information content versus word length in natural language: A reply to  Ferrer-i-Cancho and Moscoso del Prado Martin [arXiv:1209.1751]\n",
      "\t Information content versus word length in random typing\n",
      "\n"
     ]
    }
   ],
   "source": [
    "## Tests\n",
    "\n",
    "initials = [\"3D Point Cloud\", \"Residual Network\", \"Supervised\", \"word length\"]\n",
    "\n",
    "for query in initials:\n",
    "    res = []\n",
    "    print(f\"{query}\")\n",
    "    clean = clean_sentence(query.lower(), stop_words)\n",
    "    \n",
    "    for k, v in t3.iteritems(clean):\n",
    "        res += v\n",
    "    \n",
    "    res = list(set(res))\n",
    "    \n",
    "    for idx in res:\n",
    "        print(f\"\\t {dataset[idx]}\")\n",
    "    print()"
   ]
  }
 ],
 "metadata": {
  "kernelspec": {
   "display_name": "Python 3 (ipykernel)",
   "language": "python",
   "name": "python3"
  },
  "language_info": {
   "codemirror_mode": {
    "name": "ipython",
    "version": 3
   },
   "file_extension": ".py",
   "mimetype": "text/x-python",
   "name": "python",
   "nbconvert_exporter": "python",
   "pygments_lexer": "ipython3",
   "version": "3.10.12"
  }
 },
 "nbformat": 4,
 "nbformat_minor": 4
}
