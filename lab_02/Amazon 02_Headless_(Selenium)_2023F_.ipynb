{
  "cells": [
    {
      "cell_type": "markdown",
      "id": "24d56d6d",
      "metadata": {
        "id": "24d56d6d"
      },
      "source": [
        "# Amazon crawling!\n",
        "\n",
        "In this task we will crawl https://www.amazon.com/ website!\n",
        "\n",
        "**NB:** This lab is designed to be executed **locally** at your laptop, as it launches local application (browser). Indeed, headless mode can be used in colab, but this would also require specific browser installation steps. Thus, please use Anaconda."
      ]
    },
    {
      "cell_type": "markdown",
      "id": "0a1a041b",
      "metadata": {
        "id": "0a1a041b"
      },
      "source": [
        "## Dependency installation\n",
        "\n",
        "Let's try to load and parse the page the way we did before:"
      ]
    },
    {
      "cell_type": "code",
      "execution_count": 1,
      "id": "19e77ae4",
      "metadata": {
        "id": "19e77ae4",
        "outputId": "a879bc02-f1a3-4c9a-c340-87edebfd039e"
      },
      "outputs": [
        {
          "name": "stdout",
          "output_type": "stream",
          "text": [
            "Status: 503\n"
          ]
        }
      ],
      "source": [
        "import requests\n",
        "from bs4 import BeautifulSoup\n",
        "resp = requests.get(\"https://www.amazon.com/\")\n",
        "print(\"Status:\", resp.status_code)"
      ]
    },
    {
      "cell_type": "markdown",
      "id": "b7ccd713",
      "metadata": {
        "id": "b7ccd713"
      },
      "source": [
        "Wowowow! https://www.lifewire.com/503-service-unavailable-explained-2622940 :\n",
        "\n",
        "```\n",
        "The 503 Service Unavailable error is an HTTP status code that means a website's server is not available right now. Most of the time, it occurs because the server is too busy or maintenance is being performed on it.\n",
        "```\n",
        "\n",
        "As we see, the output is not what we would expect. So, what can we do when a page is not being loaded right away, but is rather rendered by a script, and only in a valid browser? Browser engines can help us getting the data. Let's try to load the same web page, but do it in a different way: let's give a browser some time to load the scripts and run them. And then we will work with DOM (Document Object Model), but we will obtain this DOM from the browser engine itself, not via `BeautifulSoup`.\n",
        "\n",
        "Where do we get browser engine from? Simply installing a browser will do the thing. How do we send commands to it from the code, and retrieve the DOM? Service applications called `drivers` will interpret commands and translate them into browser actions.\n",
        "\n",
        "For each supported browser engine you will need to:\n",
        "1. install browser itself;\n",
        "2. download 'driver' - binary executable, which passed commands from selenium to browser. E.g. [Gecko = Firefox](https://github.com/mozilla/geckodriver/releases), [ChromeDriver](http://chromedriver.storage.googleapis.com/index.html);\n",
        "3. unpack driver into a folder under PATH environment variable. Or specify exact binary location when you write the code.\n",
        "\n",
        "### Download driver\n",
        "\n",
        "And place it in any folder or under PATH env. variable. [Firefox](https://github.com/mozilla/geckodriver/releases), [Chrome](http://chromedriver.storage.googleapis.com/index.html)\n",
        "\n",
        "**FireFox** is recommended for this lab\n",
        "\n",
        "### Install selenium\n",
        "\n",
        "Selenium is a powerful tool for automated UI testing. We will use it to emulate used actions with the website."
      ]
    },
    {
      "cell_type": "code",
      "execution_count": 2,
      "id": "2e5ffb0d",
      "metadata": {
        "id": "2e5ffb0d"
      },
      "outputs": [
        {
          "name": "stdout",
          "output_type": "stream",
          "text": [
            "Defaulting to user installation because normal site-packages is not writeable\n",
            "Requirement already satisfied: selenium in /home/kamil/.local/lib/python3.10/site-packages (4.12.0)\n",
            "Requirement already satisfied: urllib3[socks]<3,>=1.26 in /usr/lib/python3/dist-packages (from selenium) (1.26.5)\n",
            "Requirement already satisfied: certifi>=2021.10.8 in /home/kamil/.local/lib/python3.10/site-packages (from selenium) (2023.7.22)\n",
            "Requirement already satisfied: trio~=0.17 in /home/kamil/.local/lib/python3.10/site-packages (from selenium) (0.22.2)\n",
            "Requirement already satisfied: trio-websocket~=0.9 in /home/kamil/.local/lib/python3.10/site-packages (from selenium) (0.10.4)\n",
            "Requirement already satisfied: idna in /usr/lib/python3/dist-packages (from trio~=0.17->selenium) (3.3)\n",
            "Requirement already satisfied: sniffio in /home/kamil/.local/lib/python3.10/site-packages (from trio~=0.17->selenium) (1.3.0)\n",
            "Requirement already satisfied: outcome in /home/kamil/.local/lib/python3.10/site-packages (from trio~=0.17->selenium) (1.2.0)\n",
            "Requirement already satisfied: exceptiongroup>=1.0.0rc9 in /home/kamil/.local/lib/python3.10/site-packages (from trio~=0.17->selenium) (1.1.3)\n",
            "Requirement already satisfied: attrs>=20.1.0 in /home/kamil/.local/lib/python3.10/site-packages (from trio~=0.17->selenium) (23.1.0)\n",
            "Requirement already satisfied: sortedcontainers in /home/kamil/.local/lib/python3.10/site-packages (from trio~=0.17->selenium) (2.4.0)\n",
            "Requirement already satisfied: wsproto>=0.14 in /home/kamil/.local/lib/python3.10/site-packages (from trio-websocket~=0.9->selenium) (1.2.0)\n",
            "Requirement already satisfied: PySocks!=1.5.7,<2.0,>=1.5.6 in /home/kamil/.local/lib/python3.10/site-packages (from urllib3[socks]<3,>=1.26->selenium) (1.7.1)\n",
            "Requirement already satisfied: h11<1,>=0.9.0 in /home/kamil/.local/lib/python3.10/site-packages (from wsproto>=0.14->trio-websocket~=0.9->selenium) (0.14.0)\n"
          ]
        }
      ],
      "source": [
        "!pip install -U selenium"
      ]
    },
    {
      "cell_type": "markdown",
      "id": "b597d93e",
      "metadata": {
        "id": "b597d93e"
      },
      "source": [
        "Check it works"
      ]
    },
    {
      "cell_type": "code",
      "execution_count": 15,
      "id": "bf9660dd",
      "metadata": {},
      "outputs": [],
      "source": [
        "! chmod +x /home/kamil/Desktop/New\\ IR/information-retrieval/labs/lab-02/New-Lab/geckodriver\n"
      ]
    },
    {
      "cell_type": "code",
      "execution_count": 3,
      "id": "85316a22",
      "metadata": {
        "id": "85316a22"
      },
      "outputs": [],
      "source": [
        "from selenium import webdriver"
      ]
    },
    {
      "cell_type": "markdown",
      "id": "2713947b",
      "metadata": {
        "id": "2713947b"
      },
      "source": [
        "### Launch browser\n",
        "\n",
        "This will open a browser window"
      ]
    },
    {
      "cell_type": "code",
      "execution_count": 4,
      "id": "03797aff",
      "metadata": {
        "id": "03797aff"
      },
      "outputs": [],
      "source": [
        "browser = webdriver.Chrome()\n"
      ]
    },
    {
      "cell_type": "markdown",
      "id": "e09e3842",
      "metadata": {
        "id": "e09e3842"
      },
      "source": [
        "### Download the page ... again"
      ]
    },
    {
      "cell_type": "code",
      "execution_count": 5,
      "id": "b594e5be",
      "metadata": {
        "id": "b594e5be"
      },
      "outputs": [],
      "source": [
        "from selenium.webdriver.common.by import By\n",
        "\n",
        "browser.get('https://www.amazon.com/gp/bestsellers/?ref_=nav_cs_bestsellers')\n",
        "browser.implicitly_wait(10)  #https://www.amazon.co wait for 10 seconds"
      ]
    },
    {
      "cell_type": "markdown",
      "id": "5ee9f5fb",
      "metadata": {
        "id": "5ee9f5fb"
      },
      "source": [
        "Now we have a browser that has downloaded the page for us!\n",
        "\n",
        "\n",
        "We want to know the price and the review score for some products (clothes).\n",
        "First let's try selecting the elements that contains these clothes."
      ]
    },
    {
      "cell_type": "code",
      "execution_count": 6,
      "id": "b1900dc6",
      "metadata": {
        "id": "b1900dc6",
        "outputId": "a7ebfe8c-556d-4ca9-c720-3a96672d5aaf"
      },
      "outputs": [
        {
          "name": "stdout",
          "output_type": "stream",
          "text": [
            "Elements found: 36\n"
          ]
        }
      ],
      "source": [
        "elements = browser.find_elements(By.CSS_SELECTOR, \"li.a-carousel-card\")\n",
        "print(\"Elements found:\", len(elements))\n"
      ]
    },
    {
      "cell_type": "markdown",
      "id": "851e8f47",
      "metadata": {
        "id": "851e8f47"
      },
      "source": [
        "We have have found some products matching the specific class\n",
        "\n",
        "Now we will interact with the website by opening these website seperately in different tabs! to do so you need to use `click` to perform clicking on the browser. check [here](https://stackoverflow.com/questions/9798273/python-selenium-find-and-click-an-element)."
      ]
    },
    {
      "cell_type": "code",
      "execution_count": 7,
      "id": "d5523f6b",
      "metadata": {
        "id": "d5523f6b"
      },
      "outputs": [],
      "source": [
        "from selenium.webdriver.common.keys import Keys\n",
        "from selenium.webdriver.common.action_chains import ActionChains\n",
        "\n",
        "actions = ActionChains(browser)\n",
        "\n",
        "\n",
        "for element in elements:     ### this part can be given as a task.\n",
        "    #element.click()    ### this part can be given as a task.\n",
        "    actions.key_down(Keys.CONTROL).click(element).key_up(Keys.CONTROL).perform()\n"
      ]
    },
    {
      "cell_type": "markdown",
      "id": "d674ed48",
      "metadata": {
        "id": "d674ed48"
      },
      "source": [
        "Now your task is to complete the following cell. in order to find the element that has all the informatio we need `id=centerCol` can be used. To find title `id=\"title\"` can be use. Notice that title is a `h1` tag. To find the rating score `id=\"averageCustomerReviews\"` can be used. And finally the element containing the price can be found using `class=\"a-section a-spacing-none aok-align-center\"`.\n",
        "\n",
        "Se the documentation [here](https://selenium-python.readthedocs.io/api.html#selenium.webdriver.remote.webelement.WebElement.get_attribute) and [here](https://www.selenium.dev/selenium/docs/api/py/webdriver/selenium.webdriver.common.by.html)"
      ]
    },
    {
      "cell_type": "markdown",
      "id": "AaB7_Lj_NGL5",
      "metadata": {
        "id": "AaB7_Lj_NGL5"
      },
      "source": [
        "Now that we are done with the browser we can just easily close the browser"
      ]
    },
    {
      "cell_type": "code",
      "execution_count": 39,
      "id": "YyFbes_aNE-0",
      "metadata": {
        "id": "YyFbes_aNE-0"
      },
      "outputs": [],
      "source": [
        "browser.quit()"
      ]
    },
    {
      "cell_type": "markdown",
      "id": "972686e9",
      "metadata": {
        "id": "972686e9"
      },
      "source": [
        "Now that we have retrieved the data, it's time get rid of non-sense characters such as `\\n` or `\\t` or any useless words. Your task here is to write a small regex that would only match the rating `score` from rating field, a regex that would match the `discount` and the `price` of the product."
      ]
    },
    {
      "cell_type": "code",
      "execution_count": 10,
      "id": "7dd61e18",
      "metadata": {
        "id": "7dd61e18",
        "outputId": "639559d0-9473-4798-e925-00e542e545fb"
      },
      "outputs": [
        {
          "ename": "NameError",
          "evalue": "name 'products_info' is not defined",
          "output_type": "error",
          "traceback": [
            "\u001b[0;31m---------------------------------------------------------------------------\u001b[0m",
            "\u001b[0;31mNameError\u001b[0m                                 Traceback (most recent call last)",
            "\u001b[1;32m/home/kamil/Desktop/New IR/information-retrieval/labs/lab-02/New-Lab/Amazon 02_Headless_(Selenium)_2023F_.ipynb Cell 21\u001b[0m line \u001b[0;36m1\n\u001b[0;32m----> <a href='vscode-notebook-cell:/home/kamil/Desktop/New%20IR/information-retrieval/labs/lab-02/New-Lab/Amazon%2002_Headless_%28Selenium%29_2023F_.ipynb#X31sZmlsZQ%3D%3D?line=0'>1</a>\u001b[0m products_info\u001b[39m.\u001b[39mkeys()\n",
            "\u001b[0;31mNameError\u001b[0m: name 'products_info' is not defined"
          ]
        }
      ],
      "source": [
        "products_info.keys()"
      ]
    },
    {
      "cell_type": "code",
      "execution_count": 41,
      "id": "5933d4d3",
      "metadata": {
        "id": "5933d4d3",
        "outputId": "c5faddf5-b2b2-445c-c455-0c13112e7bf3"
      },
      "outputs": [
        {
          "ename": "KeyError",
          "evalue": "2",
          "output_type": "error",
          "traceback": [
            "\u001b[0;31m---------------------------------------------------------------------------\u001b[0m",
            "\u001b[0;31mKeyError\u001b[0m                                  Traceback (most recent call last)",
            "\u001b[1;32m/home/kamil/Desktop/New IR/information-retrieval/labs/lab-02/New-Lab/02_Headless_(Selenium)_2023F_.ipynb Cell 24\u001b[0m line \u001b[0;36m4\n\u001b[1;32m      <a href='vscode-notebook-cell:/home/kamil/Desktop/New%20IR/information-retrieval/labs/lab-02/New-Lab/02_Headless_%28Selenium%29_2023F_.ipynb#X31sZmlsZQ%3D%3D?line=1'>2</a>\u001b[0m pattern_price \u001b[39m=\u001b[39m \u001b[39m'\u001b[39m\u001b[39m[0-9\u001b[39m\u001b[39m\\\u001b[39m\u001b[39m.\u001b[39m\u001b[39m\\\u001b[39m\u001b[39m-\u001b[39m\u001b[39m%\u001b[39m\u001b[39m]*[0-9\u001b[39m\u001b[39m\\\u001b[39m\u001b[39m$]+\u001b[39m\u001b[39m'\u001b[39m \u001b[39m### can be givven as task\u001b[39;00m\n\u001b[1;32m      <a href='vscode-notebook-cell:/home/kamil/Desktop/New%20IR/information-retrieval/labs/lab-02/New-Lab/02_Headless_%28Selenium%29_2023F_.ipynb#X31sZmlsZQ%3D%3D?line=2'>3</a>\u001b[0m pattern_rating \u001b[39m=\u001b[39m \u001b[39m'\u001b[39m\u001b[39m[0-9\u001b[39m\u001b[39m\\\u001b[39m\u001b[39m.]+\u001b[39m\u001b[39m'\u001b[39m   \u001b[39m### can be givven as task\u001b[39;00m\n\u001b[0;32m----> <a href='vscode-notebook-cell:/home/kamil/Desktop/New%20IR/information-retrieval/labs/lab-02/New-Lab/02_Headless_%28Selenium%29_2023F_.ipynb#X31sZmlsZQ%3D%3D?line=3'>4</a>\u001b[0m price_match \u001b[39m=\u001b[39m re\u001b[39m.\u001b[39mfindall(pattern_price,products_info[\u001b[39m2\u001b[39;49m][\u001b[39m'\u001b[39m\u001b[39mprice\u001b[39m\u001b[39m'\u001b[39m])\n\u001b[1;32m      <a href='vscode-notebook-cell:/home/kamil/Desktop/New%20IR/information-retrieval/labs/lab-02/New-Lab/02_Headless_%28Selenium%29_2023F_.ipynb#X31sZmlsZQ%3D%3D?line=4'>5</a>\u001b[0m rating_match \u001b[39m=\u001b[39m re\u001b[39m.\u001b[39mfindall(pattern_price,products_info[\u001b[39m2\u001b[39m][\u001b[39m'\u001b[39m\u001b[39mrating\u001b[39m\u001b[39m'\u001b[39m])\n\u001b[1;32m      <a href='vscode-notebook-cell:/home/kamil/Desktop/New%20IR/information-retrieval/labs/lab-02/New-Lab/02_Headless_%28Selenium%29_2023F_.ipynb#X31sZmlsZQ%3D%3D?line=6'>7</a>\u001b[0m \u001b[39mprint\u001b[39m(\u001b[39mf\u001b[39m\u001b[39m'\u001b[39m\u001b[39mthe prodcut has \u001b[39m\u001b[39m{\u001b[39;00mprice_match[\u001b[39m0\u001b[39m]\u001b[39m}\u001b[39;00m\u001b[39m % discount and the final price is \u001b[39m\u001b[39m{\u001b[39;00mprice_match[\u001b[39m1\u001b[39m]\u001b[39m}\u001b[39;00m\u001b[39m.\u001b[39m\u001b[39m{\u001b[39;00mprice_match[\u001b[39m2\u001b[39m]\u001b[39m}\u001b[39;00m\u001b[39m and the rating is \u001b[39m\u001b[39m{\u001b[39;00mrating_match[\u001b[39m0\u001b[39m]\u001b[39m}\u001b[39;00m\u001b[39m out of 5\u001b[39m\u001b[39m'\u001b[39m)\n",
            "\u001b[0;31mKeyError\u001b[0m: 2"
          ]
        }
      ],
      "source": [
        "import re\n",
        "pattern_price = '[0-9\\.\\-%]*[0-9\\$]+' ### can be givven as task\n",
        "pattern_rating = '[0-9\\.]+'   ### can be givven as task\n",
        "price_match = re.findall(pattern_price,products_info[2]['price'])\n",
        "rating_match = re.findall(pattern_price,products_info[2]['rating'])\n",
        "\n",
        "print(f'the prodcut has {price_match[0]} % discount and the final price is {price_match[1]}.{price_match[2]} and the rating is {rating_match[0]} out of 5')"
      ]
    }
  ],
  "metadata": {
    "colab": {
      "provenance": []
    },
    "kernelspec": {
      "display_name": "Python 3 (ipykernel)",
      "language": "python",
      "name": "python3"
    },
    "language_info": {
      "codemirror_mode": {
        "name": "ipython",
        "version": 3
      },
      "file_extension": ".py",
      "mimetype": "text/x-python",
      "name": "python",
      "nbconvert_exporter": "python",
      "pygments_lexer": "ipython3",
      "version": "3.10.12"
    }
  },
  "nbformat": 4,
  "nbformat_minor": 5
}
