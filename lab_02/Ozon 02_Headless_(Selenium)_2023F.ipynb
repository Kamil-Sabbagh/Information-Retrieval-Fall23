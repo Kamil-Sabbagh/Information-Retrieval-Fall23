{
 "cells": [
  {
   "cell_type": "markdown",
   "id": "24d56d6d",
   "metadata": {
    "id": "24d56d6d"
   },
   "source": [
    "# Amazon crawling!\n",
    "\n",
    "In this task we will crawl https://www.ozon.com/ website!\n",
    "\n",
    "**NB:** This lab is designed to be executed **locally** at your laptop, as it launches local application (browser). Indeed, headless mode can be used in colab, but this would also require specific browser installation steps. Thus, please use Anaconda."
   ]
  },
  {
   "cell_type": "markdown",
   "id": "0a1a041b",
   "metadata": {
    "id": "0a1a041b"
   },
   "source": [
    "## Dependency installation\n",
    "\n",
    "Let's try to load and parse the page the way we did before:"
   ]
  },
  {
   "cell_type": "code",
   "execution_count": 1,
   "id": "19e77ae4",
   "metadata": {
    "id": "19e77ae4",
    "outputId": "a879bc02-f1a3-4c9a-c340-87edebfd039e",
    "tags": []
   },
   "outputs": [
    {
     "name": "stdout",
     "output_type": "stream",
     "text": [
      "Status: 403\n"
     ]
    }
   ],
   "source": [
    "import requests\n",
    "from bs4 import BeautifulSoup\n",
    "resp = requests.get(\"https://www.ozon.ru/category/smartfony-15502/\")\n",
    "print(\"Status:\", resp.status_code)"
   ]
  },
  {
   "cell_type": "markdown",
   "id": "b7ccd713",
   "metadata": {
    "id": "b7ccd713"
   },
   "source": [
    "Wowowow! https://developer.mozilla.org/en-US/docs/Web/HTTP/Status/403\n",
    "```\n",
    "403 Forbidden – you don't have permission to access this resource is an HTTP status code that occurs when the web server understands the request but can't provide additional access. :\n",
    "```\n",
    "\n",
    "As we see, the output is not what we would expect. So, what can we do when a page is not being loaded right away, but is rather rendered by a script, and only in a valid browser? Browser engines can help us getting the data. Let's try to load the same web page, but do it in a different way: let's give a browser some time to load the scripts and run them. And then we will work with DOM (Document Object Model), but we will obtain this DOM from the browser engine itself, not via `BeautifulSoup`.\n",
    "\n",
    "Where do we get browser engine from? Simply installing a browser will do the thing. How do we send commands to it from the code, and retrieve the DOM? Service applications called `drivers` will interpret commands and translate them into browser actions.\n",
    "\n",
    "For each supported browser engine you will need to:\n",
    "1. install browser itself;\n",
    "2. download 'driver' - binary executable, which passed commands from selenium to browser. E.g. [Gecko = Firefox](https://github.com/mozilla/geckodriver/releases), [ChromeDriver](http://chromedriver.storage.googleapis.com/index.html);\n",
    "3. unpack driver into a folder under PATH environment variable. Or specify exact binary location when you write the code.\n",
    "\n",
    "### Download driver\n",
    "\n",
    "And place it in any folder or under PATH env. variable. [Firefox](https://github.com/mozilla/geckodriver/releases), [Chrome](http://chromedriver.storage.googleapis.com/index.html)\n",
    "\n",
    "**FireFox** is recommended for this lab\n",
    "\n",
    "### Install selenium\n",
    "\n",
    "Selenium is a powerful tool for automated UI testing. We will use it to emulate used actions with the website."
   ]
  },
  {
   "cell_type": "code",
   "execution_count": 2,
   "id": "4eea7c08-b96c-4a1b-8901-71e8e1e692a0",
   "metadata": {},
   "outputs": [
    {
     "name": "stdout",
     "output_type": "stream",
     "text": [
      "Defaulting to user installation because normal site-packages is not writeable\n",
      "Requirement already satisfied: selenium in /home/kamil/.local/lib/python3.10/site-packages (4.12.0)\n",
      "Requirement already satisfied: urllib3[socks]<3,>=1.26 in /usr/lib/python3/dist-packages (from selenium) (1.26.5)\n",
      "Requirement already satisfied: trio~=0.17 in /home/kamil/.local/lib/python3.10/site-packages (from selenium) (0.22.2)\n",
      "Requirement already satisfied: certifi>=2021.10.8 in /home/kamil/.local/lib/python3.10/site-packages (from selenium) (2023.7.22)\n",
      "Requirement already satisfied: trio-websocket~=0.9 in /home/kamil/.local/lib/python3.10/site-packages (from selenium) (0.10.4)\n",
      "Requirement already satisfied: exceptiongroup>=1.0.0rc9 in /home/kamil/.local/lib/python3.10/site-packages (from trio~=0.17->selenium) (1.1.3)\n",
      "Requirement already satisfied: sniffio in /home/kamil/.local/lib/python3.10/site-packages (from trio~=0.17->selenium) (1.3.0)\n",
      "Requirement already satisfied: outcome in /home/kamil/.local/lib/python3.10/site-packages (from trio~=0.17->selenium) (1.2.0)\n",
      "Requirement already satisfied: sortedcontainers in /home/kamil/.local/lib/python3.10/site-packages (from trio~=0.17->selenium) (2.4.0)\n",
      "Requirement already satisfied: idna in /usr/lib/python3/dist-packages (from trio~=0.17->selenium) (3.3)\n",
      "Requirement already satisfied: attrs>=20.1.0 in /home/kamil/.local/lib/python3.10/site-packages (from trio~=0.17->selenium) (23.1.0)\n",
      "Requirement already satisfied: wsproto>=0.14 in /home/kamil/.local/lib/python3.10/site-packages (from trio-websocket~=0.9->selenium) (1.2.0)\n",
      "Requirement already satisfied: PySocks!=1.5.7,<2.0,>=1.5.6 in /home/kamil/.local/lib/python3.10/site-packages (from urllib3[socks]<3,>=1.26->selenium) (1.7.1)\n",
      "Requirement already satisfied: h11<1,>=0.9.0 in /home/kamil/.local/lib/python3.10/site-packages (from wsproto>=0.14->trio-websocket~=0.9->selenium) (0.14.0)\n"
     ]
    }
   ],
   "source": [
    "!pip install -U selenium"
   ]
  },
  {
   "cell_type": "markdown",
   "id": "87e50248-573f-4cde-8f53-0ba662d3fa99",
   "metadata": {},
   "source": [
    "Check it works"
   ]
  },
  {
   "cell_type": "code",
   "execution_count": 3,
   "id": "fcfb22dd-fbd2-4ca7-a23c-83b01cbb7020",
   "metadata": {},
   "outputs": [],
   "source": [
    "from selenium import webdriver"
   ]
  },
  {
   "cell_type": "markdown",
   "id": "d7ec84bc-ad3a-42f1-aaa1-078b051d967c",
   "metadata": {},
   "source": [
    "### Launch browser\n",
    "This will open a browser window"
   ]
  },
  {
   "cell_type": "code",
   "execution_count": 4,
   "id": "6521014f-0e0e-4de1-b6f3-3cf75f63e7fc",
   "metadata": {},
   "outputs": [],
   "source": [
    "browser = webdriver.Chrome()\n",
    "# or explicitly\n",
    "# browser = webdriver.Firefox(\n",
    "#     executable_path='C:/bin/geckodriver.exe', \n",
    "#     firefox_binary='C:/Program Files/Mozilla Firefox/firefox.exe'\n",
    "# )"
   ]
  },
  {
   "cell_type": "markdown",
   "id": "e09e3842",
   "metadata": {
    "id": "e09e3842"
   },
   "source": [
    "### Download the page ... again"
   ]
  },
  {
   "cell_type": "code",
   "execution_count": 5,
   "id": "b594e5be",
   "metadata": {
    "id": "b594e5be",
    "tags": []
   },
   "outputs": [],
   "source": [
    "from selenium.webdriver.common.by import By\n",
    "\n",
    "browser.get(\"https://www.ozon.ru/category/smartfony-15502/\")\n",
    "browser.implicitly_wait(10)  # wait for 10 seconds"
   ]
  },
  {
   "cell_type": "markdown",
   "id": "5ee9f5fb",
   "metadata": {
    "id": "5ee9f5fb"
   },
   "source": [
    "Now we have a browser that has downloaded the page for us!\n",
    "\n",
    "\n",
    "We want to know the price and the review score for some products (phone).\n",
    "First let's try selecting the elements that contains these phones."
   ]
  },
  {
   "cell_type": "code",
   "execution_count": 6,
   "id": "c5557652-b324-414a-bcca-b29562e105cf",
   "metadata": {
    "tags": []
   },
   "outputs": [],
   "source": [
    "# https://www.ozon.ru/category/smartfony-15502/\n",
    "from selenium.webdriver.common.by import By\n",
    "import time\n",
    "\n",
    "browser = webdriver.Chrome()\n",
    "\n",
    "browser.get('https://www.ozon.ru/category/smartfony-15502/')\n",
    "browser.implicitly_wait(10)  # wait for 10 seconds\n",
    "\n",
    "# Scroll to the end of the page\n",
    "browser.execute_script(\"window.scrollBy(0, document.body.scrollHeight);\")  # Scroll down by 400 pixels\n",
    "browser.implicitly_wait(3)  # wait for 3 seconds\n",
    "time.sleep(3)\n",
    "browser.execute_script(\"window.scrollBy(0, document.body.scrollHeight);\")  # Scroll down by 400 pixels\n",
    "\n",
    "# ToDo: Find the info for each phone\n",
    "\n"
   ]
  },
  {
   "cell_type": "markdown",
   "id": "e23d7303-2eed-45fd-872a-a924869de998",
   "metadata": {},
   "source": [
    "### Self practice\n",
    "- what if you want to get more info about the products from inside their page\n",
    "- How about the rest of the phone? how can we go to different page?"
   ]
  }
 ],
 "metadata": {
  "colab": {
   "provenance": []
  },
  "kernelspec": {
   "display_name": "Python 3 (ipykernel)",
   "language": "python",
   "name": "python3"
  },
  "language_info": {
   "codemirror_mode": {
    "name": "ipython",
    "version": 3
   },
   "file_extension": ".py",
   "mimetype": "text/x-python",
   "name": "python",
   "nbconvert_exporter": "python",
   "pygments_lexer": "ipython3",
   "version": "3.10.12"
  }
 },
 "nbformat": 4,
 "nbformat_minor": 5
}
